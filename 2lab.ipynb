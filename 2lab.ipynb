{
 "cells": [
  {
   "cell_type": "code",
   "execution_count": 1,
   "metadata": {},
   "outputs": [
    {
     "name": "stderr",
     "output_type": "stream",
     "text": [
      "C:\\Users\\dmitr\\AppData\\Local\\Packages\\PythonSoftwareFoundation.Python.3.9_qbz5n2kfra8p0\\LocalCache\\local-packages\\Python39\\site-packages\\scipy\\__init__.py:146: UserWarning: A NumPy version >=1.16.5 and <1.23.0 is required for this version of SciPy (detected version 1.26.2\n",
      "  warnings.warn(f\"A NumPy version >={np_minversion} and <{np_maxversion}\"\n"
     ]
    }
   ],
   "source": [
    "import numpy as np\n",
    "from scipy.spatial import ConvexHull"
   ]
  },
  {
   "cell_type": "code",
   "execution_count": 2,
   "metadata": {},
   "outputs": [],
   "source": [
    "# Функція для генерації векторів\n",
    "def generate_random_vectors(num_vectors):\n",
    "    # Генеруємо всі координати одночасно\n",
    "    random_vectors = np.random.exponential(scale=1, size=(num_vectors, 3))\n",
    "    random_vectors[:, -1] = np.random.normal(size=num_vectors)\n",
    "    return random_vectors"
   ]
  },
  {
   "cell_type": "code",
   "execution_count": 3,
   "metadata": {},
   "outputs": [],
   "source": [
    "# Функція для виконання алгоритму Козінця\n",
    "def execute_kozinec_algorithm(input_points):\n",
    "    # Знаходимо опуклу оболонку для набору точок\n",
    "    convex_hull = ConvexHull(input_points)\n",
    "    # Вибираємо вершини з набору точок\n",
    "    vertices = input_points[convex_hull.vertices]\n",
    "    # Ініціалізуємо вектор w нулями\n",
    "    weight_vector = np.zeros(vertices.shape[1])\n",
    "    # Оновлюємо вектор w для кожної точки\n",
    "    for vertex in vertices:\n",
    "        dot_product = np.dot(weight_vector, vertex)\n",
    "        if dot_product <= 1:\n",
    "            weight_vector += (1 - dot_product) * vertex / np.linalg.norm(vertex)**2\n",
    "    return weight_vector"
   ]
  },
  {
   "cell_type": "code",
   "execution_count": 4,
   "metadata": {},
   "outputs": [
    {
     "name": "stdout",
     "output_type": "stream",
     "text": [
      "Розділяючий вектор: [ 1.29256576  1.46995787 -0.31250174]\n"
     ]
    }
   ],
   "source": [
    "# Встановлюємо кількість векторів\n",
    "num_vectors = 50\n",
    "\n",
    "# Генеруємо вектори\n",
    "random_vectors = generate_random_vectors(num_vectors)\n",
    "\n",
    "# Знаходимо розділяючий вектор\n",
    "separating_vector = execute_kozinec_algorithm(random_vectors)\n",
    "if separating_vector is not None:\n",
    "    print(\"Розділяючий вектор:\", separating_vector)\n",
    "else:\n",
    "    print(\"Розділення неможливе.\")"
   ]
  }
 ],
 "metadata": {
  "kernelspec": {
   "display_name": "Python 3",
   "language": "python",
   "name": "python3"
  },
  "language_info": {
   "codemirror_mode": {
    "name": "ipython",
    "version": 3
   },
   "file_extension": ".py",
   "mimetype": "text/x-python",
   "name": "python",
   "nbconvert_exporter": "python",
   "pygments_lexer": "ipython3",
   "version": "3.9.13"
  }
 },
 "nbformat": 4,
 "nbformat_minor": 2
}
