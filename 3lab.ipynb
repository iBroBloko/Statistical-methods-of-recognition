{
 "cells": [
  {
   "cell_type": "code",
   "execution_count": 4,
   "metadata": {},
   "outputs": [],
   "source": [
    "import numpy as np"
   ]
  },
  {
   "cell_type": "code",
   "execution_count": 7,
   "metadata": {},
   "outputs": [],
   "source": [
    "def generate_sequence(num_samples=100):\n",
    "    # Ініціалізація параметрів\n",
    "    mean_state1, mean_state2 = 1, 2  # Початкові оцінки для математичних сподівань\n",
    "    prob_state1, prob_state2 = 0.5, 0.5  # Початкові оцінки для ймовірностей станів\n",
    "    variance = 1  # Дисперсія\n",
    "\n",
    "    # Генерація послідовності\n",
    "    sequence = np.where(np.random.rand(num_samples) < 1/3, \n",
    "                        np.random.normal(0, np.sqrt(variance), num_samples), \n",
    "                        np.random.normal(3, np.sqrt(variance), num_samples))\n",
    "\n",
    "    # Оцінка параметрів\n",
    "    while True:\n",
    "        # Оцінка ймовірностей станів\n",
    "        state1_indices = sequence < 1.5\n",
    "        prob_state1_est = np.mean(state1_indices)\n",
    "        prob_state2_est = 1 - prob_state1_est\n",
    "\n",
    "        # Оцінка середніх значень для кожного стану\n",
    "        mean_state1_est = np.mean(sequence[state1_indices])\n",
    "        mean_state2_est = np.mean(sequence[~state1_indices])\n",
    "\n",
    "        # Перевірка збіжності: якщо оцінки mean_state1, mean_state2 не змінюються, а оцінки prob_state1, prob_state2 відрізняються менше ніж на 0.001, то зупиняємо алгоритм\n",
    "        if np.allclose([mean_state1, mean_state2, prob_state1, prob_state2], \n",
    "                       [mean_state1_est, mean_state2_est, prob_state1_est, prob_state2_est], \n",
    "                       atol=0.001):\n",
    "            break\n",
    "\n",
    "        # Оновлення параметрів\n",
    "        mean_state1, mean_state2 = mean_state1_est, mean_state2_est\n",
    "        prob_state1, prob_state2 = prob_state1_est, prob_state2_est\n",
    "\n",
    "    # Повернення результатів: послідовність випадкових величин та оцінки параметрів\n",
    "    return sequence, (mean_state1, mean_state2), (prob_state1, prob_state2)\n"
   ]
  },
  {
   "cell_type": "code",
   "execution_count": 8,
   "metadata": {},
   "outputs": [
    {
     "data": {
      "text/plain": [
       "((-0.0043908026438778175, 3.170502568986953), (0.38, 0.62))"
      ]
     },
     "execution_count": 8,
     "metadata": {},
     "output_type": "execute_result"
    }
   ],
   "source": [
    "generated_sequence, final_means, final_probabilities = generate_sequence(100)\n",
    "final_means, final_probabilities"
   ]
  }
 ],
 "metadata": {
  "kernelspec": {
   "display_name": "Python 3",
   "language": "python",
   "name": "python3"
  },
  "language_info": {
   "codemirror_mode": {
    "name": "ipython",
    "version": 3
   },
   "file_extension": ".py",
   "mimetype": "text/x-python",
   "name": "python",
   "nbconvert_exporter": "python",
   "pygments_lexer": "ipython3",
   "version": "3.9.13"
  }
 },
 "nbformat": 4,
 "nbformat_minor": 2
}
